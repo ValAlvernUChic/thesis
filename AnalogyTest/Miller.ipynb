{
 "cells": [
  {
   "cell_type": "code",
   "execution_count": 1,
   "metadata": {},
   "outputs": [],
   "source": [
    "import pandas as pd\n",
    "import string"
   ]
  },
  {
   "cell_type": "code",
   "execution_count": 2,
   "metadata": {},
   "outputs": [],
   "source": [
    "Testfiles = ['Miller/Test%1d.txt' %i for i in range(1,11)]\n",
    "Answerfiles = ['Miller/Answer%1d.txt' %i for i in range(1,11)]"
   ]
  },
  {
   "cell_type": "code",
   "execution_count": 3,
   "metadata": {},
   "outputs": [],
   "source": [
    "dfs = []\n",
    "for testfile, answerfile in zip(Testfiles, Answerfiles):\n",
    "    with open(testfile, 'r') as f:\n",
    "        test = f.read()\n",
    "    answers = pd.read_csv(answerfile, sep = '\\t')['Correct Answer'].apply(lambda x: string.ascii_uppercase.index(x))\n",
    "    lines = test.split('\\n')\n",
    "    questions = lines[::7]\n",
    "    choices_a = [line.lower()[3:] for line in lines[2::7]]\n",
    "    choices_b = [line.lower()[3:] for line in lines[3::7]]\n",
    "    choices_c = [line.lower()[3:] for line in lines[4::7]]\n",
    "    choices_d = [line.lower()[3:] for line in lines[5::7]]\n",
    "    question_pairs = [question.split('.')[1].split('::') for question in questions]\n",
    "    rows = []\n",
    "    for i,question in enumerate(question_pairs):\n",
    "        row = []\n",
    "        for pair in question:\n",
    "            words = pair.split(':')\n",
    "            for j, word in enumerate(words):\n",
    "                if '(' in word:\n",
    "                    words[j] = '_'\n",
    "                else:\n",
    "                    words[j] = word.lower().strip()\n",
    "            row += words\n",
    "        rows.append(' '.join(row))\n",
    "    df = pd.DataFrame([rows, choices_a, choices_b, choices_c, choices_d, answers]).T\n",
    "    dfs.append(df)"
   ]
  },
  {
   "cell_type": "code",
   "execution_count": 4,
   "metadata": {},
   "outputs": [],
   "source": [
    "df = pd.concat(dfs, ignore_index = True)"
   ]
  },
  {
   "cell_type": "code",
   "execution_count": 5,
   "metadata": {},
   "outputs": [],
   "source": [
    "df.columns = ['text', 'A', 'B', 'C', 'D', 'correct_answer']"
   ]
  },
  {
   "cell_type": "code",
   "execution_count": 6,
   "metadata": {},
   "outputs": [],
   "source": [
    "df.to_csv('Miller/PracticeTests150.csv', index = False)"
   ]
  },
  {
   "cell_type": "code",
   "execution_count": 7,
   "metadata": {},
   "outputs": [],
   "source": [
    "pairs = df.apply(lambda row: row[0].replace('_', row[row[5] + 1]), axis = 1)"
   ]
  },
  {
   "cell_type": "code",
   "execution_count": 8,
   "metadata": {},
   "outputs": [],
   "source": [
    "pairs.to_csv('Miller/MillerAnalogy.txt', index = False, header = False)"
   ]
  },
  {
   "cell_type": "code",
   "execution_count": null,
   "metadata": {},
   "outputs": [],
   "source": []
  }
 ],
 "metadata": {
  "kernelspec": {
   "display_name": "Python 3",
   "language": "python",
   "name": "python3"
  },
  "language_info": {
   "codemirror_mode": {
    "name": "ipython",
    "version": 3
   },
   "file_extension": ".py",
   "mimetype": "text/x-python",
   "name": "python",
   "nbconvert_exporter": "python",
   "pygments_lexer": "ipython3",
   "version": "3.7.4"
  }
 },
 "nbformat": 4,
 "nbformat_minor": 2
}
